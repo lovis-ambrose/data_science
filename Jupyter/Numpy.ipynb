{
 "cells": [
  {
   "cell_type": "markdown",
   "id": "f819d3a0-2d83-4418-8cbe-28679a835ca3",
   "metadata": {},
   "source": [
    "Numpy tutorial"
   ]
  },
  {
   "cell_type": "code",
   "execution_count": 1,
   "id": "440f62ba-0ced-453e-bf61-17c8a6af5f9f",
   "metadata": {},
   "outputs": [],
   "source": [
    "import numpy as np"
   ]
  },
  {
   "cell_type": "code",
   "execution_count": 14,
   "id": "82aa0898-76ef-4169-847a-74b57e3f4a6c",
   "metadata": {},
   "outputs": [],
   "source": [
    "a=np.array([2,2,3,4])"
   ]
  },
  {
   "cell_type": "code",
   "execution_count": 17,
   "id": "41cd7da8-500e-4852-84a4-da8b3760d28f",
   "metadata": {},
   "outputs": [
    {
     "data": {
      "text/plain": [
       "8"
      ]
     },
     "execution_count": 17,
     "metadata": {},
     "output_type": "execute_result"
    }
   ],
   "source": [
    "# check array dimensions\n",
    "a.ndim\n",
    "a.itemsize #prints 8 ie int occupies 8 bytes coz am using 64 bit OS"
   ]
  },
  {
   "cell_type": "code",
   "execution_count": 21,
   "id": "015509f5-18e2-434c-ae2e-fed8d45d097b",
   "metadata": {},
   "outputs": [
    {
     "data": {
      "text/plain": [
       "dtype('int64')"
      ]
     },
     "execution_count": 21,
     "metadata": {},
     "output_type": "execute_result"
    }
   ],
   "source": [
    "a=np.array([[12,22],[32,11],[22,11]])\n",
    "a.ndim  # 2-D array\n",
    "a.dtype  #check the datatype"
   ]
  },
  {
   "cell_type": "code",
   "execution_count": 26,
   "id": "4f8683cd-ed91-4488-82fd-02b8c08dc40c",
   "metadata": {},
   "outputs": [],
   "source": [
    "a=np.array([[12,22],[32,11],[22,11]], dtype=np.float64)  #change the arry to floats"
   ]
  },
  {
   "cell_type": "code",
   "execution_count": 29,
   "id": "a283362c-f953-403c-8e18-52338eb169d8",
   "metadata": {},
   "outputs": [
    {
     "data": {
      "text/plain": [
       "8"
      ]
     },
     "execution_count": 29,
     "metadata": {},
     "output_type": "execute_result"
    }
   ],
   "source": [
    "a.itemsize"
   ]
  },
  {
   "cell_type": "code",
   "execution_count": 30,
   "id": "cfab7ab3-6100-46bf-900d-e5a8a86cc91e",
   "metadata": {},
   "outputs": [
    {
     "data": {
      "text/plain": [
       "array([[12., 22.],\n",
       "       [32., 11.],\n",
       "       [22., 11.]])"
      ]
     },
     "execution_count": 30,
     "metadata": {},
     "output_type": "execute_result"
    }
   ],
   "source": [
    "a"
   ]
  },
  {
   "cell_type": "code",
   "execution_count": 32,
   "id": "b0db39e3-4f94-4aa6-85ee-cbc844a3966f",
   "metadata": {},
   "outputs": [
    {
     "data": {
      "text/plain": [
       "(3, 2)"
      ]
     },
     "execution_count": 32,
     "metadata": {},
     "output_type": "execute_result"
    }
   ],
   "source": [
    "# total number of elements\n",
    "a.size\n",
    "# shape\n",
    "a.shape"
   ]
  },
  {
   "cell_type": "code",
   "execution_count": null,
   "id": "09681abc-afb3-4b7c-9052-4f0821b96d87",
   "metadata": {},
   "outputs": [],
   "source": []
  },
  {
   "cell_type": "code",
   "execution_count": 52,
   "id": "b8956f21-4a58-44d3-b3eb-bab542b27506",
   "metadata": {},
   "outputs": [
    {
     "data": {
      "text/plain": [
       "array([[0., 0.],\n",
       "       [0., 0.],\n",
       "       [0., 0.]])"
      ]
     },
     "execution_count": 52,
     "metadata": {},
     "output_type": "execute_result"
    }
   ],
   "source": [
    "# initialize an array with zeros or ones ie 3 by 2 array\n",
    "arr=np.zeros( (3,2) )\n",
    "arr"
   ]
  },
  {
   "cell_type": "code",
   "execution_count": 53,
   "id": "c6e21e8e-3a91-4a28-bbba-9ad152064116",
   "metadata": {},
   "outputs": [
    {
     "data": {
      "text/plain": [
       "array([[0., 0., 0.],\n",
       "       [0., 0., 0.]])"
      ]
     },
     "execution_count": 53,
     "metadata": {},
     "output_type": "execute_result"
    }
   ],
   "source": [
    "# reshape the array to 2 by 3\n",
    "arr.reshape(2,3)"
   ]
  },
  {
   "cell_type": "code",
   "execution_count": 54,
   "id": "8f4e4257-a035-4fa1-b003-5c57a734138d",
   "metadata": {},
   "outputs": [],
   "source": [
    "# define an array with arange function\n",
    "arr=np.arange(0,5)  #note that 5 aint inclusive"
   ]
  },
  {
   "cell_type": "code",
   "execution_count": 55,
   "id": "a0d795d9-e9d5-4a32-b84f-4251c3f70862",
   "metadata": {},
   "outputs": [
    {
     "data": {
      "text/plain": [
       "array([0, 1, 2, 3, 4])"
      ]
     },
     "execution_count": 55,
     "metadata": {},
     "output_type": "execute_result"
    }
   ],
   "source": [
    "arr"
   ]
  },
  {
   "cell_type": "code",
   "execution_count": 56,
   "id": "fec19c2c-10d7-4187-88f7-e46a9404ed56",
   "metadata": {},
   "outputs": [
    {
     "data": {
      "text/plain": [
       "array([ 5.        ,  6.11111111,  7.22222222,  8.33333333,  9.44444444,\n",
       "       10.55555556, 11.66666667, 12.77777778, 13.88888889, 15.        ])"
      ]
     },
     "execution_count": 56,
     "metadata": {},
     "output_type": "execute_result"
    }
   ],
   "source": [
    "# using linspace eg generate 10 numbers between 5 and 15  which are linearly spaced\n",
    "np.linspace(5,15,10)"
   ]
  },
  {
   "cell_type": "code",
   "execution_count": null,
   "id": "e7ce178d-5e58-4369-a41e-2b80ad4d4a6c",
   "metadata": {},
   "outputs": [],
   "source": []
  },
  {
   "cell_type": "code",
   "execution_count": null,
   "id": "40064733-1632-4463-9b7c-336cf53659b0",
   "metadata": {},
   "outputs": [],
   "source": []
  }
 ],
 "metadata": {
  "kernelspec": {
   "display_name": "Python 3 (ipykernel)",
   "language": "python",
   "name": "python3"
  },
  "language_info": {
   "codemirror_mode": {
    "name": "ipython",
    "version": 3
   },
   "file_extension": ".py",
   "mimetype": "text/x-python",
   "name": "python",
   "nbconvert_exporter": "python",
   "pygments_lexer": "ipython3",
   "version": "3.10.12"
  }
 },
 "nbformat": 4,
 "nbformat_minor": 5
}
