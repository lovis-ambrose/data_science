{
 "cells": [
  {
   "cell_type": "code",
   "execution_count": 2,
   "id": "adb2e398-cc7a-43b1-9ad8-d250f082b34a",
   "metadata": {},
   "outputs": [],
   "source": [
    "import numpy as np"
   ]
  },
  {
   "cell_type": "code",
   "execution_count": 2,
   "id": "2c81cddb-4166-4d0e-9ef5-f679266aa330",
   "metadata": {},
   "outputs": [],
   "source": [
    "a=np.arange(12).reshape(3,4)"
   ]
  },
  {
   "cell_type": "code",
   "execution_count": 4,
   "id": "16cf97e6-f18b-415a-b680-184dea299c08",
   "metadata": {},
   "outputs": [
    {
     "data": {
      "text/plain": [
       "array([[ 0,  1,  2,  3],\n",
       "       [ 4,  5,  6,  7],\n",
       "       [ 8,  9, 10, 11]])"
      ]
     },
     "execution_count": 4,
     "metadata": {},
     "output_type": "execute_result"
    }
   ],
   "source": [
    "a"
   ]
  },
  {
   "cell_type": "raw",
   "id": "9d0994a6-fc6f-4573-b8ba-d501caba5ba3",
   "metadata": {},
   "source": [
    "To flatten the array"
   ]
  },
  {
   "cell_type": "code",
   "execution_count": 5,
   "id": "e10dcb3a-fb65-44b0-8431-0dd8b46a9f10",
   "metadata": {},
   "outputs": [
    {
     "name": "stdout",
     "output_type": "stream",
     "text": [
      "0\n",
      "1\n",
      "2\n",
      "3\n",
      "4\n",
      "5\n",
      "6\n",
      "7\n",
      "8\n",
      "9\n",
      "10\n",
      "11\n"
     ]
    }
   ],
   "source": [
    "for cell in a.flatten():\n",
    "    print(cell)"
   ]
  },
  {
   "cell_type": "code",
   "execution_count": null,
   "id": "8444e756-098b-4016-8658-105061b08122",
   "metadata": {},
   "outputs": [],
   "source": []
  },
  {
   "cell_type": "markdown",
   "id": "bf27b540-0db9-45ce-a0f9-d16c90552c69",
   "metadata": {},
   "source": [
    "Alternatively, we can use nditr to flatten the array.We can ether use C order or Fortan order (F)"
   ]
  },
  {
   "cell_type": "code",
   "execution_count": 9,
   "id": "3332fd98-42ef-4315-aed8-e3ad1a9ad44d",
   "metadata": {},
   "outputs": [
    {
     "name": "stdout",
     "output_type": "stream",
     "text": [
      "0\n",
      "4\n",
      "8\n",
      "1\n",
      "5\n",
      "9\n",
      "2\n",
      "6\n",
      "10\n",
      "3\n",
      "7\n",
      "11\n"
     ]
    }
   ],
   "source": [
    "for x in np.nditer(a, order=\"F\"):\n",
    "    print(x)"
   ]
  },
  {
   "cell_type": "markdown",
   "id": "24bebf05-0808-48b9-9023-2f19dabcf4f7",
   "metadata": {},
   "source": [
    "C order goes by rows while F goes by the columns"
   ]
  },
  {
   "cell_type": "code",
   "execution_count": null,
   "id": "dd2a234f-2ddd-485c-bbba-7415e8c23ab3",
   "metadata": {},
   "outputs": [],
   "source": []
  },
  {
   "cell_type": "code",
   "execution_count": null,
   "id": "7120ebff-1fae-4aae-a9bc-51a2a0d87a29",
   "metadata": {},
   "outputs": [],
   "source": []
  },
  {
   "cell_type": "code",
   "execution_count": null,
   "id": "07e7b2fe-539a-4b70-ae91-2d5db124a5a0",
   "metadata": {},
   "outputs": [],
   "source": []
  },
  {
   "cell_type": "markdown",
   "id": "0d3c21b0-f888-479b-a6e7-bdb8c3eaa019",
   "metadata": {},
   "source": [
    "Topics: \n",
    "Indexing and slicing, \n",
    "Iterating through arrays, \n",
    "Stacking together two arrays, \n",
    "Indexing with boolean arrays."
   ]
  },
  {
   "cell_type": "code",
   "execution_count": 12,
   "id": "c377f8b3-97be-4803-879d-c93c0fbecaca",
   "metadata": {},
   "outputs": [
    {
     "data": {
      "text/plain": [
       "array([[1, 2, 3],\n",
       "       [4, 5, 6],\n",
       "       [7, 8, 9]])"
      ]
     },
     "execution_count": 12,
     "metadata": {},
     "output_type": "execute_result"
    }
   ],
   "source": [
    "ar = np.array([[1,2,3],[4,5,6],[7,8,9]])\n",
    "ar"
   ]
  },
  {
   "cell_type": "markdown",
   "id": "a4575b73-2f05-4580-a207-e54e0daf3296",
   "metadata": {},
   "source": [
    "print 6 on the screen"
   ]
  },
  {
   "cell_type": "code",
   "execution_count": 13,
   "id": "6438a941-d484-4e8f-96e7-ccf13740e329",
   "metadata": {},
   "outputs": [
    {
     "data": {
      "text/plain": [
       "6"
      ]
     },
     "execution_count": 13,
     "metadata": {},
     "output_type": "execute_result"
    }
   ],
   "source": [
    "ar[1,2]"
   ]
  },
  {
   "cell_type": "code",
   "execution_count": 17,
   "id": "90b0dba7-2c17-4f9c-800b-ff012ff86209",
   "metadata": {},
   "outputs": [
    {
     "data": {
      "text/plain": [
       "array([3, 6])"
      ]
     },
     "execution_count": 17,
     "metadata": {},
     "output_type": "execute_result"
    }
   ],
   "source": [
    "ar[0:2,2]"
   ]
  },
  {
   "cell_type": "code",
   "execution_count": null,
   "id": "50d6dfd2-2069-45dd-acda-a5ae0a79f44b",
   "metadata": {},
   "outputs": [],
   "source": []
  },
  {
   "cell_type": "code",
   "execution_count": null,
   "id": "d7d6add9-f77a-497d-b57f-8cc4c945d033",
   "metadata": {},
   "outputs": [],
   "source": []
  },
  {
   "cell_type": "markdown",
   "id": "40801e78-3991-4e88-92ea-4b8f55ee65dc",
   "metadata": {},
   "source": [
    "Iterating through an array"
   ]
  },
  {
   "cell_type": "code",
   "execution_count": 19,
   "id": "c86d25da-1d38-4ba9-a95f-56d60e940290",
   "metadata": {},
   "outputs": [
    {
     "data": {
      "text/plain": [
       "array([[1, 2, 3],\n",
       "       [4, 5, 6],\n",
       "       [7, 8, 9]])"
      ]
     },
     "execution_count": 19,
     "metadata": {},
     "output_type": "execute_result"
    }
   ],
   "source": [
    "ar"
   ]
  },
  {
   "cell_type": "code",
   "execution_count": 20,
   "id": "57d5d287-11f5-4054-af28-f40536ea0f4e",
   "metadata": {
    "scrolled": true
   },
   "outputs": [
    {
     "name": "stdout",
     "output_type": "stream",
     "text": [
      "[1 2 3]\n",
      "[4 5 6]\n",
      "[7 8 9]\n"
     ]
    }
   ],
   "source": [
    "for row in ar:\n",
    "    print(row)"
   ]
  },
  {
   "cell_type": "code",
   "execution_count": 28,
   "id": "cb095cc8-496d-4cce-9641-4dfcba53ef5e",
   "metadata": {},
   "outputs": [
    {
     "name": "stdout",
     "output_type": "stream",
     "text": [
      "[1 2 3]\n",
      "[4 5 6]\n",
      "[7 8 9]\n",
      "[1 2 3]\n",
      "[4 5 6]\n",
      "[7 8 9]\n",
      "[1 2 3]\n",
      "[4 5 6]\n",
      "[7 8 9]\n"
     ]
    }
   ],
   "source": [
    "for r in ar:\n",
    "    for c in ar:\n",
    "        print(c)"
   ]
  },
  {
   "cell_type": "code",
   "execution_count": null,
   "id": "ef4caba1-55a8-4140-a5b9-3766d6a93b09",
   "metadata": {},
   "outputs": [],
   "source": []
  },
  {
   "cell_type": "markdown",
   "id": "443fc174-c314-4f10-a99c-7f7066ec5fba",
   "metadata": {},
   "source": [
    "To just create an array automatically."
   ]
  },
  {
   "cell_type": "code",
   "execution_count": 8,
   "id": "8c8a00a0-ffd7-497c-9737-6688b6be2725",
   "metadata": {},
   "outputs": [],
   "source": [
    "array = np.arange(12).reshape(3,4)"
   ]
  },
  {
   "cell_type": "code",
   "execution_count": 6,
   "id": "cbcc0f53-69c3-4628-b394-8d12931666cd",
   "metadata": {},
   "outputs": [
    {
     "data": {
      "text/plain": [
       "array([[ 0,  1,  2],\n",
       "       [ 3,  4,  5],\n",
       "       [ 6,  7,  8],\n",
       "       [ 9, 10, 11]])"
      ]
     },
     "execution_count": 6,
     "metadata": {},
     "output_type": "execute_result"
    }
   ],
   "source": [
    "array"
   ]
  },
  {
   "cell_type": "code",
   "execution_count": 9,
   "id": "de0bae1c-b96f-41d2-b801-1ae359d94f11",
   "metadata": {},
   "outputs": [],
   "source": [
    "b = array>5"
   ]
  },
  {
   "cell_type": "markdown",
   "id": "28cd1969-b722-4435-bebf-62d38048880f",
   "metadata": {},
   "source": [
    "Am creating an array b bases on if values are greater than 5 and then storing that result."
   ]
  },
  {
   "cell_type": "code",
   "execution_count": 10,
   "id": "4d2d2bdc-0648-4885-bb70-dc3b67419933",
   "metadata": {},
   "outputs": [
    {
     "data": {
      "text/plain": [
       "array([[False, False, False, False],\n",
       "       [False, False,  True,  True],\n",
       "       [ True,  True,  True,  True]])"
      ]
     },
     "execution_count": 10,
     "metadata": {},
     "output_type": "execute_result"
    }
   ],
   "source": [
    "b"
   ]
  },
  {
   "cell_type": "code",
   "execution_count": null,
   "id": "0811d3d5-53ea-4540-8bf5-5d6dcf6406f4",
   "metadata": {},
   "outputs": [],
   "source": []
  },
  {
   "cell_type": "markdown",
   "id": "956194cd-e919-4fd0-951c-e25b0153e9ac",
   "metadata": {},
   "source": [
    "extract all the elements greater thatn 5 from the original aray."
   ]
  },
  {
   "cell_type": "code",
   "execution_count": 11,
   "id": "76985504-e4e2-4d52-be22-df199ef52385",
   "metadata": {},
   "outputs": [
    {
     "data": {
      "text/plain": [
       "array([ 6,  7,  8,  9, 10, 11])"
      ]
     },
     "execution_count": 11,
     "metadata": {},
     "output_type": "execute_result"
    }
   ],
   "source": [
    "array[b]"
   ]
  },
  {
   "cell_type": "code",
   "execution_count": null,
   "id": "324429eb-64ad-4fc3-9982-11cca39f650b",
   "metadata": {},
   "outputs": [],
   "source": []
  },
  {
   "cell_type": "markdown",
   "id": "a635a200-e518-480d-8369-b41ae079780f",
   "metadata": {},
   "source": [
    "replace every element greater than 5 with -5"
   ]
  },
  {
   "cell_type": "code",
   "execution_count": 12,
   "id": "2939ad34-b3a6-43f7-8b18-2b4553aa6932",
   "metadata": {},
   "outputs": [],
   "source": [
    "array[b] = -5"
   ]
  },
  {
   "cell_type": "code",
   "execution_count": 13,
   "id": "269b2cda-3f4d-440e-bcbd-d5a5b31e72fa",
   "metadata": {},
   "outputs": [
    {
     "data": {
      "text/plain": [
       "array([[ 0,  1,  2,  3],\n",
       "       [ 4,  5, -5, -5],\n",
       "       [-5, -5, -5, -5]])"
      ]
     },
     "execution_count": 13,
     "metadata": {},
     "output_type": "execute_result"
    }
   ],
   "source": [
    "array"
   ]
  },
  {
   "cell_type": "code",
   "execution_count": null,
   "id": "2f44b900-869c-4de3-8443-75a93db13c34",
   "metadata": {},
   "outputs": [],
   "source": []
  },
  {
   "cell_type": "code",
   "execution_count": null,
   "id": "5487944c-1a42-437c-afa2-e7d30f8d9f91",
   "metadata": {},
   "outputs": [],
   "source": []
  },
  {
   "cell_type": "code",
   "execution_count": null,
   "id": "f770f55e-5cda-4529-acac-d9ad1dd7e8a8",
   "metadata": {},
   "outputs": [],
   "source": []
  },
  {
   "cell_type": "markdown",
   "id": "e0d06d56-7302-4826-b336-ca35dddfd7b8",
   "metadata": {},
   "source": [
    "Week 3, 4 Pandas, Data Visualization (matplotlib or seaborn)"
   ]
  },
  {
   "cell_type": "raw",
   "id": "2fe64de0-c110-4ae2-8930-1e0c7c8b7df1",
   "metadata": {},
   "source": [
    "~~~~~ matplotlib~~~~~~~~"
   ]
  },
  {
   "cell_type": "code",
   "execution_count": null,
   "id": "6308460b-def6-48ab-b24f-e43ab8b873a3",
   "metadata": {},
   "outputs": [],
   "source": []
  },
  {
   "cell_type": "code",
   "execution_count": null,
   "id": "f0868074-2f47-4af0-8320-a390829c9755",
   "metadata": {},
   "outputs": [],
   "source": []
  }
 ],
 "metadata": {
  "kernelspec": {
   "display_name": "Python 3 (ipykernel)",
   "language": "python",
   "name": "python3"
  },
  "language_info": {
   "codemirror_mode": {
    "name": "ipython",
    "version": 3
   },
   "file_extension": ".py",
   "mimetype": "text/x-python",
   "name": "python",
   "nbconvert_exporter": "python",
   "pygments_lexer": "ipython3",
   "version": "3.10.12"
  }
 },
 "nbformat": 4,
 "nbformat_minor": 5
}
