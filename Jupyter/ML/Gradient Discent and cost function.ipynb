{
 "cells": [
  {
   "cell_type": "markdown",
   "id": "bb417864-29aa-41d5-bb65-a0ff4736eaba",
   "metadata": {},
   "source": [
    "### Gradient Discent and Cost function\n",
    "``Gradient Discent`` is an algorithm that helps you find the best fit line for given training data set"
   ]
  },
  {
   "cell_type": "code",
   "execution_count": 9,
   "id": "8e010471-301c-47f9-8411-bbfe6c645b4b",
   "metadata": {},
   "outputs": [],
   "source": [
    "import numpy as np"
   ]
  },
  {
   "cell_type": "code",
   "execution_count": 10,
   "id": "6a687100-a9b7-40fb-be8f-27755cca8e9d",
   "metadata": {},
   "outputs": [],
   "source": [
    "# privided we have our two lines and we want to derive a line of best fit\n",
    "def gradient_descent(x,y):\n",
    "    # define m currents and # of steps\n",
    "    m_curr = b_curr = 0\n",
    "    iterations = 1000   # will then fine tune it\n",
    "    n = len(x)      # n is lentgh of the data points\n",
    "    # define learning_rate ie start with like 0.001, gradually improve it. its like trial and error and seeing how alg behaves\n",
    "    learning_rate = 0.001\n",
    "    \n",
    "    \n",
    "            \n",
    "    # we will start with few parameters and then see how the algorothm behaves\n",
    "    for i in range(iterations):\n",
    "        y_predicted = m_curr * x + b_curr\n",
    "        cost = (1/n)*sum([val**2 for val in (y-y_predicted)]) # val**2 deals with negative values\n",
    "        # calculate m derivative and b derivative\n",
    "        md = -(2/n)*sum(x*(y-y_predicted))\n",
    "        bd = -(2/n)*sum(y-y_predicted)\n",
    "        # adjust the m_curr - learning rate\n",
    "        m_curr = m_curr - learning_rate * md\n",
    "        b_curr = b_curr - learning_rate * bd\n",
    "        # print the values at each iteration\n",
    "        print(\"m {}, b {}, cost {}, iterations {}\".format(m_curr,b_curr,cost,i))\n",
    "        \n",
    "        \n",
    "\n",
    "# lets use numpy array coz its faster that a python list\n",
    "x=np.array([1,2,3,4,5])\n",
    "y=np.array([5,7,9,11,13])"
   ]
  },
  {
   "cell_type": "code",
   "execution_count": null,
   "id": "9ddf8249-a66f-4e27-b143-606028f38e5e",
   "metadata": {},
   "outputs": [],
   "source": []
  },
  {
   "cell_type": "code",
   "execution_count": null,
   "id": "a0c3be52-c339-4b87-8e49-06af9c4c152a",
   "metadata": {},
   "outputs": [],
   "source": []
  }
 ],
 "metadata": {
  "kernelspec": {
   "display_name": "Python 3 (ipykernel)",
   "language": "python",
   "name": "python3"
  },
  "language_info": {
   "codemirror_mode": {
    "name": "ipython",
    "version": 3
   },
   "file_extension": ".py",
   "mimetype": "text/x-python",
   "name": "python",
   "nbconvert_exporter": "python",
   "pygments_lexer": "ipython3",
   "version": "3.10.12"
  }
 },
 "nbformat": 4,
 "nbformat_minor": 5
}
