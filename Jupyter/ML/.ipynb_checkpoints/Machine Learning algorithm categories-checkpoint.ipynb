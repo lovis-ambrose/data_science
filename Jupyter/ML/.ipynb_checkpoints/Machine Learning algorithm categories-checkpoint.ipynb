{
 "cells": [
  {
   "cell_type": "markdown",
   "id": "1c4a53a7-8c90-4cbe-a8a7-7feeda1bebc2",
   "metadata": {},
   "source": [
    "### Machine Learning algorithm categories\n",
    "\n",
    "1. `Supervised learning.` Here, we have class labels or target labels present\n",
    "2. `Unsupervised learning.` Here, all we have is set of feature. We dont know about the target variable or class label. We try to understand the underlying structure in the data or try to find clusters in the data to make predictions out of the data\n",
    "3. `Reenforcement learning.`"
   ]
  },
  {
   "cell_type": "code",
   "execution_count": null,
   "id": "cc6badfb-4b2f-42d2-b17e-017af53edbfd",
   "metadata": {},
   "outputs": [],
   "source": []
  }
 ],
 "metadata": {
  "kernelspec": {
   "display_name": "Python 3 (ipykernel)",
   "language": "python",
   "name": "python3"
  },
  "language_info": {
   "codemirror_mode": {
    "name": "ipython",
    "version": 3
   },
   "file_extension": ".py",
   "mimetype": "text/x-python",
   "name": "python",
   "nbconvert_exporter": "python",
   "pygments_lexer": "ipython3",
   "version": "3.10.12"
  }
 },
 "nbformat": 4,
 "nbformat_minor": 5
}
