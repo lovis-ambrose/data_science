{
 "cells": [
  {
   "cell_type": "markdown",
   "id": "9fc4178d-93fa-4cb7-9a1e-99da198f8a21",
   "metadata": {},
   "source": [
    "### K Fold Cross Validation\n",
    "So far we have seen 2 training options.\n",
    "\n",
    "1. Using all the data training and testing. eg give a kid 100 qns to train and ask the same questions\n",
    "2. Splitting the data into training and testing data. eg give a kid 70 qns for training and the remaining 30 for testing.\n",
    "3. Using K Fold Cross Validation method. Here, we evaluate the performance of different algorothms"
   ]
  },
  {
   "cell_type": "code",
   "execution_count": 1,
   "id": "c36fa51b-dcc0-48ca-b346-6b2b98f87e23",
   "metadata": {},
   "outputs": [],
   "source": [
    "import numpy as np\n",
    "from sklearn.linear_model import LogisticRegression\n",
    "from sklearn.svm import SVC\n",
    "from sklearn.ensemble import RandomForestClassifier\n",
    "from sklearn.datasets import load_digits\n",
    "from sklearn.model_selection import train_test_split\n",
    "# import KFold classifier\n",
    "from sklearn.model_selection import KFold"
   ]
  },
  {
   "cell_type": "code",
   "execution_count": 2,
   "id": "9ff67fec-5d66-4bab-a730-92feda695ce3",
   "metadata": {},
   "outputs": [
    {
     "data": {
      "text/plain": [
       "['DESCR', 'data', 'feature_names', 'frame', 'images', 'target', 'target_names']"
      ]
     },
     "execution_count": 2,
     "metadata": {},
     "output_type": "execute_result"
    }
   ],
   "source": [
    "# we want to classify the digits dataset into one of the ten categories 0-9\n",
    "digits = load_digits()\n",
    "dir(digits)"
   ]
  },
  {
   "cell_type": "code",
   "execution_count": 3,
   "id": "6d512f4b-c6a2-446c-8882-2d4b77cf8b52",
   "metadata": {},
   "outputs": [],
   "source": [
    "# the issue with this is that you have to run it multiple times to make conclusions\n",
    "X_train, X_test, y_train, y_test = train_test_split(digits.data, digits.target, test_size=0.3)"
   ]
  },
  {
   "cell_type": "markdown",
   "id": "cf957cdd-4c44-48b0-8690-7d344a3b72ee",
   "metadata": {},
   "source": [
    "#### we now use different classifiers and measure their performance"
   ]
  },
  {
   "cell_type": "code",
   "execution_count": 4,
   "id": "d1a8b9a8-e361-4588-a9cc-3def16a60230",
   "metadata": {},
   "outputs": [
    {
     "data": {
      "text/plain": [
       "0.95"
      ]
     },
     "execution_count": 4,
     "metadata": {},
     "output_type": "execute_result"
    }
   ],
   "source": [
    "# Logistic regression\n",
    "lr=LogisticRegression(solver=\"liblinear\")\n",
    "lr.fit(X_train,y_train)\n",
    "lr.score(X_test,y_test)"
   ]
  },
  {
   "cell_type": "code",
   "execution_count": 5,
   "id": "ff15304d-062c-4ced-afa8-8ca72b132623",
   "metadata": {},
   "outputs": [
    {
     "data": {
      "text/plain": [
       "0.9833333333333333"
      ]
     },
     "execution_count": 5,
     "metadata": {},
     "output_type": "execute_result"
    }
   ],
   "source": [
    "# Suport Vector Machine\n",
    "svm=SVC()\n",
    "svm.fit(X_train,y_train)\n",
    "svm.score(X_test,y_test)"
   ]
  },
  {
   "cell_type": "code",
   "execution_count": 6,
   "id": "9ad80380-c11d-4f99-bd44-3a12563c8065",
   "metadata": {},
   "outputs": [
    {
     "data": {
      "text/plain": [
       "0.9740740740740741"
      ]
     },
     "execution_count": 6,
     "metadata": {},
     "output_type": "execute_result"
    }
   ],
   "source": [
    "# Random forest classifier\n",
    "rf=RandomForestClassifier()\n",
    "rf.fit(X_train,y_train)\n",
    "rf.score(X_test,y_test)"
   ]
  },
  {
   "cell_type": "markdown",
   "id": "f5d68551-f36a-4e7f-bec7-3df1acf5575a",
   "metadata": {},
   "source": [
    "#### now lets do K Fold cross validation"
   ]
  },
  {
   "cell_type": "code",
   "execution_count": 7,
   "id": "c5a12207-5239-4dfb-a955-6135e7532bf7",
   "metadata": {},
   "outputs": [
    {
     "data": {
      "text/plain": [
       "KFold(n_splits=3, random_state=None, shuffle=False)"
      ]
     },
     "execution_count": 7,
     "metadata": {},
     "output_type": "execute_result"
    }
   ],
   "source": [
    "# specify 3 folds\n",
    "kf = KFold(n_splits=3)\n",
    "kf"
   ]
  },
  {
   "cell_type": "code",
   "execution_count": 8,
   "id": "ce3c5bb6-c0f1-46d0-bd8d-3a0e8fa7b9b8",
   "metadata": {},
   "outputs": [
    {
     "name": "stdout",
     "output_type": "stream",
     "text": [
      "[3 4 5 6 7 8] [0 1 2]\n",
      "[0 1 2 6 7 8] [3 4 5]\n",
      "[0 1 2 3 4 5] [6 7 8]\n"
     ]
    }
   ],
   "source": [
    "# using KFold on a dataset\n",
    "for train_index, test_index in kf.split([1,2,3,4,5,6,7,8,9]):\n",
    "    print(train_index,test_index)"
   ]
  },
  {
   "cell_type": "markdown",
   "id": "507cf3b4-163e-4ff8-a0b0-16d637264d54",
   "metadata": {},
   "source": [
    "How it is working. </br>\n",
    "The dataset is divided into 3 folds.\n",
    "\n",
    "1. first iteration has 1 fold for testing (0 1 2) and remaining 2 folds for training (3 4 5 6 7 8)\n",
    "2. second iteration has (3 4 5) for testing and (0 1 2 6 7 8) for training\n",
    "3. third iteration has (6 7 8) for testing and (0 1 2 3 4 5) for training"
   ]
  },
  {
   "cell_type": "code",
   "execution_count": 9,
   "id": "8f4eabbd-26d5-4c5b-8bbb-17b0eb75f912",
   "metadata": {},
   "outputs": [],
   "source": [
    "# lets write a method that takes madel, X_train, X_test, y_train, y_test as input and returns the model score\n",
    "def get_score(model,X_train, X_test, y_train, y_test):\n",
    "    model.fit(X_train,y_train)\n",
    "    return model.score(X_test,y_test)"
   ]
  },
  {
   "cell_type": "code",
   "execution_count": 10,
   "id": "1ea442c4-fbfd-433d-b1aa-dfd92f2ca017",
   "metadata": {},
   "outputs": [
    {
     "data": {
      "text/plain": [
       "0.9833333333333333"
      ]
     },
     "execution_count": 10,
     "metadata": {},
     "output_type": "execute_result"
    }
   ],
   "source": [
    "# How the method works\n",
    "get_score(SVC(),X_train, X_test, y_train, y_test)"
   ]
  },
  {
   "cell_type": "markdown",
   "id": "e7a4a207-d2dc-4259-9b24-49626b61d9f5",
   "metadata": {},
   "source": [
    "### now lets use kfold on our digits dataset"
   ]
  },
  {
   "cell_type": "code",
   "execution_count": 11,
   "id": "f1ebd34d-bd7d-45d0-b78f-8e99c7514bc2",
   "metadata": {},
   "outputs": [],
   "source": [
    "# StratifiedKFold is better than KFold in that it divides each of the classification categories in a uniform way\n",
    "from sklearn.model_selection import StratifiedKFold"
   ]
  },
  {
   "cell_type": "code",
   "execution_count": 12,
   "id": "8e099526-b3ab-4d59-bf30-7c9e453720cd",
   "metadata": {},
   "outputs": [],
   "source": [
    "folds = StratifiedKFold(n_splits=3)"
   ]
  },
  {
   "cell_type": "code",
   "execution_count": 13,
   "id": "e806b31a-e587-4557-a849-c5f840f91703",
   "metadata": {},
   "outputs": [],
   "source": [
    "# prepare scores arrays\n",
    "# This code simply explains how KFold cross validation work.\n",
    "scores_lr = []\n",
    "scores_svm = []\n",
    "scores_rf = []\n",
    "\n",
    "# lets use our ral dataset now\n",
    "for train_index, test_index in kf.split(digits.data):\n",
    "    X_train,X_test,y_train,y_test = digits.data[train_index],digits.data[test_index], digits.target[train_index],digits.target[test_index]\n",
    "    # le loop will iterate 3 times and it will take diff X_train,X_test,y_train,y_test measuring the performance of the model and then\n",
    "    # append the scores to the defined arrays\n",
    "    scores_lr.append(get_score(LogisticRegression(solver=\"liblinear\"),X_train, X_test, y_train, y_test))\n",
    "    scores_svm.append(get_score(SVC(),X_train, X_test, y_train, y_test))\n",
    "    scores_rf.append(get_score(RandomForestClassifier(),X_train, X_test, y_train, y_test))"
   ]
  },
  {
   "cell_type": "markdown",
   "id": "d8abce22-e506-4289-ab8e-1e11b1fc9245",
   "metadata": {},
   "source": [
    "#### what it did is iterate 3 times while appending the scores for each of the different values of X_train, X_test, y_train, y_test to the defines arrays"
   ]
  },
  {
   "cell_type": "markdown",
   "id": "4939585c-a1d7-41e2-a314-0b2639f3770d",
   "metadata": {},
   "source": [
    "lets print the appended scores"
   ]
  },
  {
   "cell_type": "code",
   "execution_count": 14,
   "id": "fe6e6133-a10a-4805-b39c-a00e572efaee",
   "metadata": {},
   "outputs": [
    {
     "data": {
      "text/plain": [
       "[0.8964941569282137, 0.9515859766277128, 0.9115191986644408]"
      ]
     },
     "execution_count": 14,
     "metadata": {},
     "output_type": "execute_result"
    }
   ],
   "source": [
    "# LogisticRegression\n",
    "scores_lr"
   ]
  },
  {
   "cell_type": "code",
   "execution_count": 15,
   "id": "68cddd17-98d2-4460-a38b-6f68405163d6",
   "metadata": {},
   "outputs": [
    {
     "data": {
      "text/plain": [
       "[0.9666110183639399, 0.9816360601001669, 0.9549248747913188]"
      ]
     },
     "execution_count": 15,
     "metadata": {},
     "output_type": "execute_result"
    }
   ],
   "source": [
    "# SVC\n",
    "scores_svm"
   ]
  },
  {
   "cell_type": "code",
   "execution_count": 16,
   "id": "a584d586-d433-49ae-99e7-bc2875ea4e4b",
   "metadata": {},
   "outputs": [
    {
     "data": {
      "text/plain": [
       "[0.9365609348914858, 0.9549248747913188, 0.9232053422370617]"
      ]
     },
     "execution_count": 16,
     "metadata": {},
     "output_type": "execute_result"
    }
   ],
   "source": [
    "# RandomForestClassifier\n",
    "scores_rf"
   ]
  },
  {
   "cell_type": "markdown",
   "id": "6bf887d0-8847-44f1-813e-68be61544f46",
   "metadata": {},
   "source": [
    "#### The best way to archieve the above is to use cross_val_score method"
   ]
  },
  {
   "cell_type": "code",
   "execution_count": 17,
   "id": "e57fbdcf-41a1-4e3f-a3f3-54c83e0dc831",
   "metadata": {},
   "outputs": [],
   "source": [
    "from sklearn.model_selection import cross_val_score"
   ]
  },
  {
   "cell_type": "code",
   "execution_count": 18,
   "id": "bbadef59-c349-401b-9326-d6e0ec4abecf",
   "metadata": {},
   "outputs": [
    {
     "data": {
      "text/plain": [
       "array([0.92222222, 0.88333333, 0.95264624, 0.95821727, 0.89415042])"
      ]
     },
     "execution_count": 18,
     "metadata": {},
     "output_type": "execute_result"
    }
   ],
   "source": [
    "# This takes the estimator(the ML model), X and y labels\n",
    "# LogisticRegression()\n",
    "cross_val_score(LogisticRegression(solver=\"liblinear\"),digits.data,digits.target)"
   ]
  },
  {
   "cell_type": "code",
   "execution_count": 19,
   "id": "243364c8-9aac-4b32-af21-66c9e709f227",
   "metadata": {},
   "outputs": [
    {
     "data": {
      "text/plain": [
       "array([0.96111111, 0.94444444, 0.98328691, 0.98885794, 0.93871866])"
      ]
     },
     "execution_count": 19,
     "metadata": {},
     "output_type": "execute_result"
    }
   ],
   "source": [
    "# SVC\n",
    "cross_val_score(SVC(),digits.data,digits.target)"
   ]
  },
  {
   "cell_type": "code",
   "execution_count": 20,
   "id": "6cf99cea-d2d2-427d-bd41-6f7febfaef63",
   "metadata": {},
   "outputs": [
    {
     "data": {
      "text/plain": [
       "array([0.92777778, 0.90555556, 0.9637883 , 0.97493036, 0.92200557])"
      ]
     },
     "execution_count": 20,
     "metadata": {},
     "output_type": "execute_result"
    }
   ],
   "source": [
    "# RandomForestClassifier\n",
    "cross_val_score(RandomForestClassifier(),digits.data,digits.target)"
   ]
  },
  {
   "cell_type": "markdown",
   "id": "a009c307-f448-4c26-ab20-bdad15cf1e04",
   "metadata": {},
   "source": [
    "### Exercise\n",
    "Use iris dataset to determine the best ML model based on performance; </br>\n",
    "\n",
    "1. LogisticRegression\n",
    "2. SVC\n",
    "3. RandomForestClassifier\n",
    "4. Decision Tree\n",
    "\n",
    "use `cross_val_score` method to measure the performance of the best ML classifier"
   ]
  },
  {
   "cell_type": "code",
   "execution_count": 21,
   "id": "f2ce98a3-0a42-46bb-8038-a5fc2f590824",
   "metadata": {},
   "outputs": [],
   "source": [
    "# import the required ML models and functions\n",
    "from sklearn.linear_model import LogisticRegression\n",
    "from sklearn.svm import SVC\n",
    "from sklearn.ensemble import RandomForestClassifier\n",
    "from sklearn import tree\n",
    "\n",
    "from sklearn.datasets import load_iris\n",
    "from sklearn.model_selection import cross_val_score\n",
    "from sklearn.model_selection import train_test_split"
   ]
  },
  {
   "cell_type": "code",
   "execution_count": 22,
   "id": "c4514fc2-173f-4de3-bc4b-bd348107bc9b",
   "metadata": {},
   "outputs": [
    {
     "data": {
      "text/plain": [
       "['DESCR',\n",
       " 'data',\n",
       " 'data_module',\n",
       " 'feature_names',\n",
       " 'filename',\n",
       " 'frame',\n",
       " 'target',\n",
       " 'target_names']"
      ]
     },
     "execution_count": 22,
     "metadata": {},
     "output_type": "execute_result"
    }
   ],
   "source": [
    "# load the iris dataset\n",
    "iris = load_iris()\n",
    "dir(iris)"
   ]
  },
  {
   "cell_type": "code",
   "execution_count": 23,
   "id": "123ca8a3-afc5-4e13-a1e4-2272d689ed34",
   "metadata": {},
   "outputs": [],
   "source": [
    "# define X and y labels\n",
    "X = iris.data\n",
    "y=iris.target"
   ]
  },
  {
   "cell_type": "code",
   "execution_count": 24,
   "id": "49d1a9cb-46ad-4a84-8652-780b1845804a",
   "metadata": {},
   "outputs": [],
   "source": [
    "# split the dataset\n",
    "X_train, X_test, y_train, y_test = train_test_split(X, y, test_size=0.33)"
   ]
  },
  {
   "cell_type": "code",
   "execution_count": 25,
   "id": "79711cc3-3929-45c7-a70d-af1c63c8f4cc",
   "metadata": {},
   "outputs": [
    {
     "data": {
      "text/plain": [
       "(100, 50)"
      ]
     },
     "execution_count": 25,
     "metadata": {},
     "output_type": "execute_result"
    }
   ],
   "source": [
    "len(X_train), len(X_test)"
   ]
  },
  {
   "cell_type": "code",
   "execution_count": 26,
   "id": "b25dcb30-f998-4999-988c-55109be333ab",
   "metadata": {},
   "outputs": [
    {
     "data": {
      "text/plain": [
       "array([0.9 , 0.95, 0.85, 1.  , 0.9 ])"
      ]
     },
     "execution_count": 26,
     "metadata": {},
     "output_type": "execute_result"
    }
   ],
   "source": [
    "# LogisticRegression()\n",
    "cross_val_score(LogisticRegression(solver=\"liblinear\"),X_train,y_train)"
   ]
  },
  {
   "cell_type": "code",
   "execution_count": 27,
   "id": "d091c19f-bf5c-4d9b-8bab-8a0f5149a9f2",
   "metadata": {},
   "outputs": [
    {
     "data": {
      "text/plain": [
       "array([1.  , 1.  , 1.  , 0.9 , 0.95])"
      ]
     },
     "execution_count": 27,
     "metadata": {},
     "output_type": "execute_result"
    }
   ],
   "source": [
    "# SVC\n",
    "cross_val_score(SVC(),X_train,y_train)"
   ]
  },
  {
   "cell_type": "code",
   "execution_count": 28,
   "id": "dc64426c-1410-4917-9b37-557a66a5969f",
   "metadata": {},
   "outputs": [
    {
     "data": {
      "text/plain": [
       "array([1.  , 1.  , 1.  , 0.95, 0.95])"
      ]
     },
     "execution_count": 28,
     "metadata": {},
     "output_type": "execute_result"
    }
   ],
   "source": [
    "# RandomForestClassifier\n",
    "cross_val_score(RandomForestClassifier(),X_train,y_train)"
   ]
  },
  {
   "cell_type": "code",
   "execution_count": 29,
   "id": "99bcb303-70aa-4ff2-b275-6914c22d3136",
   "metadata": {},
   "outputs": [
    {
     "data": {
      "text/plain": [
       "array([1.  , 1.  , 1.  , 0.95, 0.8 ])"
      ]
     },
     "execution_count": 29,
     "metadata": {},
     "output_type": "execute_result"
    }
   ],
   "source": [
    "# Decision tree\n",
    "cross_val_score(tree.DecisionTreeClassifier(),X_train,y_train)"
   ]
  },
  {
   "cell_type": "code",
   "execution_count": null,
   "id": "81f874cf-c761-40b9-b22f-95338ca854c3",
   "metadata": {},
   "outputs": [],
   "source": []
  }
 ],
 "metadata": {
  "kernelspec": {
   "display_name": "Python 3 (ipykernel)",
   "language": "python",
   "name": "python3"
  },
  "language_info": {
   "codemirror_mode": {
    "name": "ipython",
    "version": 3
   },
   "file_extension": ".py",
   "mimetype": "text/x-python",
   "name": "python",
   "nbconvert_exporter": "python",
   "pygments_lexer": "ipython3",
   "version": "3.10.12"
  }
 },
 "nbformat": 4,
 "nbformat_minor": 5
}
